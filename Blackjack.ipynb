{
 "cells": [
  {
   "cell_type": "code",
   "execution_count": 3,
   "metadata": {},
   "outputs": [],
   "source": [
    "import random\n",
    "\n",
    "suits = ('Corazones', 'Diamantes', 'Picas', 'Trébol')\n",
    "ranks = ('Dos', 'Tres', 'Cuatro', 'Cinco', 'Seis', 'Siete', 'Ocho', 'Nueve', 'Diez', 'J', 'Q', 'K', 'As')\n",
    "values ={'Dos':2, 'Tres':3, 'Cuatro':4, 'Cinco':5, 'Seis':6, 'Siete':7, 'Ocho':8, 'Nueve':9, 'Diez':10, 'J':10,\n",
    "         'Q':10, 'K':10, 'As':11}\n",
    "playing = True"
   ]
  },
  {
   "cell_type": "code",
   "execution_count": 5,
   "metadata": {},
   "outputs": [],
   "source": [
    "class Carta:\n",
    "\n",
    "    def __init__(self,suit,rank):\n",
    "        self.suit = suit\n",
    "        self.rank = rank\n",
    "        \n",
    "    def __str__(self):\n",
    "        return self.rank + ' de ' + self.suit"
   ]
  },
  {
   "cell_type": "code",
   "execution_count": 6,
   "metadata": {},
   "outputs": [],
   "source": [
    "class Deck:\n",
    "    \n",
    "    def __init__(self):\n",
    "        self.deck = []  \n",
    "        for suit in suits:\n",
    "            for rank in ranks:\n",
    "                self.deck.append(Carta(suit,rank))  \n",
    "    \n",
    "    def __str__(self):\n",
    "        deck_comp = ''  \n",
    "        for carta in self.deck:\n",
    "            deck_comp += '\\n '+carta.__str__() \n",
    "        return 'El mazo tiene:' + deck_comp\n",
    "\n",
    "    def shuffle(self):\n",
    "        random.shuffle(self.deck)\n",
    "        \n",
    "    def deal(self):\n",
    "        single_carta = self.deck.pop()\n",
    "        return single_carta"
   ]
  },
  {
   "cell_type": "code",
   "execution_count": 7,
   "metadata": {},
   "outputs": [
    {
     "name": "stdout",
     "output_type": "stream",
     "text": [
      "El mazo tiene:\n",
      " Ocho de Corazones\n",
      " J de Diamantes\n",
      " Dos de Corazones\n",
      " K de Picas\n",
      " Tres de Trébol\n",
      " Cuatro de Trébol\n",
      " Cinco de Diamantes\n",
      " K de Diamantes\n",
      " Dos de Picas\n",
      " Diez de Corazones\n",
      " Siete de Corazones\n",
      " Nueve de Corazones\n",
      " Cinco de Corazones\n",
      " Siete de Trébol\n",
      " As de Picas\n",
      " Tres de Picas\n",
      " Seis de Picas\n",
      " Diez de Diamantes\n",
      " As de Corazones\n",
      " Dos de Diamantes\n",
      " J de Picas\n",
      " As de Diamantes\n",
      " Cuatro de Picas\n",
      " Siete de Diamantes\n",
      " Ocho de Picas\n",
      " As de Trébol\n",
      " Q de Diamantes\n",
      " Q de Picas\n",
      " Diez de Trébol\n",
      " Cinco de Trébol\n",
      " Cuatro de Corazones\n",
      " Q de Corazones\n",
      " Siete de Picas\n",
      " Seis de Trébol\n",
      " Tres de Diamantes\n",
      " K de Corazones\n",
      " Seis de Diamantes\n",
      " Q de Trébol\n",
      " K de Trébol\n",
      " Dos de Trébol\n",
      " Cinco de Picas\n",
      " Diez de Picas\n",
      " J de Trébol\n",
      " J de Corazones\n",
      " Ocho de Diamantes\n",
      " Cuatro de Diamantes\n",
      " Tres de Corazones\n",
      " Nueve de Trébol\n",
      " Ocho de Trébol\n",
      " Nueve de Picas\n",
      " Nueve de Diamantes\n",
      " Seis de Corazones\n"
     ]
    }
   ],
   "source": [
    "test_deck = Deck()\n",
    "test_deck.shuffle()\n",
    "print(test_deck)"
   ]
  },
  {
   "cell_type": "code",
   "execution_count": 8,
   "metadata": {},
   "outputs": [],
   "source": [
    "class Hand:\n",
    "    def __init__(self):\n",
    "        self.cards = []\n",
    "        self.value = 0  \n",
    "        self.aces = 0    \n",
    "    \n",
    "    def add_card(self,card):\n",
    "        self.cards.append(card)\n",
    "        self.value += values[card.rank]\n",
    "        \n",
    "        if card.rank == 'As':\n",
    "            self.aces += 1\n",
    "    \n",
    "    def adjust_for_ace(self):\n",
    "        while self.value > 21 and self.aces > 0:\n",
    "            self.value -= 10\n",
    "            self.aces -= 1"
   ]
  },
  {
   "cell_type": "code",
   "execution_count": 9,
   "metadata": {},
   "outputs": [
    {
     "name": "stdout",
     "output_type": "stream",
     "text": [
      "Cuatro de Trébol\n",
      "4\n"
     ]
    }
   ],
   "source": [
    "test_deck = Deck()\n",
    "test_deck.shuffle()\n",
    "\n",
    "test_player = Hand()\n",
    "pulled_card = test_deck.deal()\n",
    "print(pulled_card)\n",
    "test_player.add_card(pulled_card)\n",
    "print(test_player.value)"
   ]
  },
  {
   "cell_type": "code",
   "execution_count": 10,
   "metadata": {},
   "outputs": [],
   "source": [
    "test_player.add_card(test_deck.deal())"
   ]
  },
  {
   "cell_type": "code",
   "execution_count": 11,
   "metadata": {},
   "outputs": [
    {
     "data": {
      "text/plain": [
       "9"
      ]
     },
     "execution_count": 11,
     "metadata": {},
     "output_type": "execute_result"
    }
   ],
   "source": [
    "test_player.value"
   ]
  },
  {
   "cell_type": "code",
   "execution_count": 12,
   "metadata": {},
   "outputs": [],
   "source": [
    "class Chips:\n",
    "    \n",
    "    def __init__(self,total=100):\n",
    "        self.total = total\n",
    "        self.bet = 0\n",
    "        \n",
    "    def win_bet(self):\n",
    "        self.total += self.bet\n",
    "    \n",
    "    def lose_bet(self):\n",
    "        self.total -= self.bet"
   ]
  },
  {
   "cell_type": "code",
   "execution_count": 13,
   "metadata": {},
   "outputs": [],
   "source": [
    "def take_bet(chips):\n",
    "    \n",
    "    while True:\n",
    "        try:\n",
    "            chips.bet = int(input('¿Cuánto quieres apostar? '))\n",
    "        except ValueError:\n",
    "            print('Introduzca un número entero')\n",
    "        else:\n",
    "            if chips.bet > chips.total:\n",
    "                print('¡No tienes suficientes fichas!',chips.total)\n",
    "            else:\n",
    "                break"
   ]
  },
  {
   "cell_type": "code",
   "execution_count": 14,
   "metadata": {},
   "outputs": [],
   "source": [
    "def hit(deck,hand):\n",
    "    \n",
    "    single_card = deck.deal()\n",
    "    hand.add_card(single_card)\n",
    "    hand.adjust_for_ace()"
   ]
  },
  {
   "cell_type": "code",
   "execution_count": 15,
   "metadata": {},
   "outputs": [],
   "source": [
    "def hit_or_stand(deck,hand):\n",
    "    global playing \n",
    "    \n",
    "    while True:\n",
    "        x = input('¿Quieres golpear o quieres quedarte? Presiona g o q')\n",
    "        \n",
    "        if x[0].lower() == 'g':\n",
    "            hit(deck,hand)  \n",
    "\n",
    "        elif x[0].lower() == 'q':\n",
    "            print('Turno del repartidor')\n",
    "            playing = False\n",
    "\n",
    "        else:\n",
    "            print('Inténtalo de nuevo')\n",
    "            continue\n",
    "        break"
   ]
  },
  {
   "cell_type": "code",
   "execution_count": 16,
   "metadata": {},
   "outputs": [],
   "source": [
    "def show_some(player,dealer):\n",
    "    print(\"\\nMano del repartidor:\")\n",
    "    print(\" <card hidden>\")\n",
    "    print('',dealer.cards[1])  \n",
    "    print(\"\\nMano del jugador:\", *player.cards, sep='\\n ')\n",
    "    \n",
    "def show_all(player,dealer):\n",
    "    print(\"\\nMano del repartidor:\", *dealer.cards, sep='\\n ')\n",
    "    print(\"Mano del repartidor =\",dealer.value)\n",
    "    print(\"\\nMano del jugador:\", *player.cards, sep='\\n ')\n",
    "    print(\"Mano del jugador =\",player.value)"
   ]
  },
  {
   "cell_type": "code",
   "execution_count": 20,
   "metadata": {},
   "outputs": [],
   "source": [
    "def player_busts(player,dealer,chips):\n",
    "    print('El jugador cae en quiebra')\n",
    "    chips.lose_bet()\n",
    "def player_wins(player,dealer,chips):\n",
    "    print('¡Ganó el jugador!')\n",
    "    chips.win_bet()\n",
    "\n",
    "def dealer_busts(player,dealer,chips):\n",
    "    print('El repartidor cae en quiebra')\n",
    "    chips.win_bet()\n",
    "    \n",
    "def dealer_wins(player,dealer,chips):\n",
    "    print('¡Ganó el repartidor!')\n",
    "    chips.lose_bet()\n",
    "    \n",
    "def push(player,dealer,):\n",
    "    print('¡Empate!')"
   ]
  },
  {
   "cell_type": "code",
   "execution_count": null,
   "metadata": {},
   "outputs": [
    {
     "name": "stdout",
     "output_type": "stream",
     "text": [
      "Bienvenido a BlackJack\n",
      "¿Cuánto quieres apostar? 100\n",
      "\n",
      "Mano del repartidor:\n",
      " <card hidden>\n",
      " Ocho de Diamantes\n",
      "\n",
      "Mano del jugador:\n",
      " Cinco de Diamantes\n",
      " Ocho de Corazones\n",
      "\n",
      "Mano del repartidor:\n",
      " Dos de Trébol\n",
      " Ocho de Diamantes\n",
      " Ocho de Picas\n",
      "Mano del repartidor = 18\n",
      "\n",
      "Mano del jugador:\n",
      " Cinco de Diamantes\n",
      " Ocho de Corazones\n",
      "Mano del jugador = 13\n",
      "¡Ganó el repartidor!\n",
      "\n",
      " Total de fichas del jugador: 0\n"
     ]
    }
   ],
   "source": [
    "\n",
    "while True:\n",
    "    \n",
    "\n",
    "    print('Bienvenido a BlackJack')\n",
    "    \n",
    "    deck = Deck()\n",
    "    deck.shuffle()\n",
    "    \n",
    "    player_hand = Hand()\n",
    "    player_hand.add_card(deck.deal())\n",
    "    player_hand.add_card(deck.deal())\n",
    "        \n",
    "    dealer_hand = Hand()\n",
    "    dealer_hand.add_card(deck.deal())\n",
    "    dealer_hand.add_card(deck.deal())\n",
    "    \n",
    "    \n",
    "    player_chips = Chips()\n",
    "    \n",
    "    \n",
    "    take_bet(player_chips)\n",
    "    \n",
    "    \n",
    "    show_some(player_hand,dealer_hand)\n",
    "    \n",
    "    while playing:  \n",
    "        \n",
    "        \n",
    "        hit_or_stand(deck,player_hand)      \n",
    "        \n",
    "        show_some(player_hand,dealer_hand)\n",
    "        \n",
    "        \n",
    "        if player_hand.value > 21:\n",
    "            player_busts(player_hand,dealer_hand,player_chips)\n",
    "\n",
    "            break\n",
    "  \n",
    "    \n",
    "    if player_hand.value <= 21:\n",
    "        \n",
    "        while dealer_hand.value <= 17:\n",
    "            hit(deck,dealer_hand)\n",
    "        \n",
    "        show_all(player_hand,dealer_hand)\n",
    "        \n",
    "        if dealer_hand.value > 21:\n",
    "            dealer_busts(dealer_hand,player_hand,player_chips)\n",
    "        elif dealer_hand.value > player_hand.value:\n",
    "            dealer_wins(dealer_hand,player_hand,player_chips)\n",
    "        elif dealer_hand.value < player_hand.value:\n",
    "            player_wins(dealer_hand,player_hand,player_chips)\n",
    "        else:\n",
    "            push(dealer_hand,player_hand)    \n",
    "  \n",
    "    print('\\n Total de fichas del jugador: {}'.format(player_chips.total))\n",
    "    \n",
    "    new_game = input('¿Quieres volver a jugar? Presiona s o n')\n",
    "    \n",
    "    if new_game[0].lower == 's':\n",
    "        playing = True\n",
    "        continue\n",
    "    else:\n",
    "        print('Gracias por jugar BlackJack')\n",
    "        break"
   ]
  },
  {
   "cell_type": "code",
   "execution_count": null,
   "metadata": {},
   "outputs": [],
   "source": []
  }
 ],
 "metadata": {
  "kernelspec": {
   "display_name": "Python 3",
   "language": "python",
   "name": "python3"
  },
  "language_info": {
   "codemirror_mode": {
    "name": "ipython",
    "version": 3
   },
   "file_extension": ".py",
   "mimetype": "text/x-python",
   "name": "python",
   "nbconvert_exporter": "python",
   "pygments_lexer": "ipython3",
   "version": "3.7.3"
  }
 },
 "nbformat": 4,
 "nbformat_minor": 2
}
